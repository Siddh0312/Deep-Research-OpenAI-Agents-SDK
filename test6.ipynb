{
 "cells": [
  {
   "cell_type": "code",
   "execution_count": 1,
   "metadata": {},
   "outputs": [],
   "source": [
    "import os\n",
    "from openai import OpenAI\n",
    "from pydantic import BaseModel\n",
    "from dotenv import load_dotenv\n",
    "from agents import Agent, Runner, trace, function_tool, WebSearchTool\n",
    "import sendgrid\n",
    "import asyncio\n",
    "from sendgrid.helpers.mail import Mail, Email, To, Content\n",
    "from IPython.display import display, Markdown\n",
    "from typing import Dict\n",
    "from agents.model_settings import ModelSettings"
   ]
  },
  {
   "cell_type": "code",
   "execution_count": 2,
   "metadata": {},
   "outputs": [
    {
     "data": {
      "text/plain": [
       "True"
      ]
     },
     "execution_count": 2,
     "metadata": {},
     "output_type": "execute_result"
    }
   ],
   "source": [
    "load_dotenv(override=True)"
   ]
  },
  {
   "cell_type": "code",
   "execution_count": 25,
   "metadata": {},
   "outputs": [],
   "source": [
    "instructions1=\"You are a research assistant. You will be given a word. You are search the web for that term \\\n",
    "    produce a concise summary of the results. The summary must be of 1 paragraph and should not exceed 50 \\\n",
    "    words.\"\n",
    "\n",
    "search_agent = Agent(\n",
    "    name=\"Search Agent\",\n",
    "    instructions=instructions1,\n",
    "    model=os.getenv(\"model\"),\n",
    "    tools= [WebSearchTool(search_context_size=\"low\")],\n",
    "    model_settings=ModelSettings(tool_choice=\"required\")\n",
    ")"
   ]
  },
  {
   "cell_type": "code",
   "execution_count": 6,
   "metadata": {},
   "outputs": [
    {
     "data": {
      "text/markdown": [
       "As of June 2025, several AI agentic frameworks have emerged, enhancing the development of autonomous systems capable of complex decision-making and collaboration. Microsoft's AutoGen orchestrates multi-agent systems with an event-driven architecture, facilitating scalable and efficient AI workflows. LangChain enables seamless AI workflows by chaining prompts, memory, and tools, while LangGraph offers advanced state management through graph-based architectures, ideal for applications requiring dependency management. Microsoft's Semantic Kernel bridges semantic understanding with functionality, enhancing contextual decision-making in AI applications. CrewAI focuses on multi-agent collaboration, allowing for task execution by multiple agents, and Eliza provides a Web3-friendly AI agent operating system, integrating blockchain data and smart contracts into AI functionalities. ([lekha-bhan88.medium.com](https://lekha-bhan88.medium.com/top-5-agentic-ai-frameworks-to-watch-in-2025-9d51b2b652c0?utm_source=openai), [arxiv.org](https://arxiv.org/abs/2501.06781?utm_source=openai))\n",
       "\n",
       "In November 2024, Anthropic introduced the Model Context Protocol (MCP), an open-source framework standardizing the integration of AI models with external tools and data sources. MCP aims to serve as a universal connector between language-model agents and external software, facilitating secure and efficient data exchange. Its adoption by major AI providers, including OpenAI and Google DeepMind, underscores its significance in the AI community. ([en.wikipedia.org](https://en.wikipedia.org/wiki/Model_Context_Protocol?utm_source=openai))\n",
       "\n",
       "\n",
       "## Recent Developments in AI Agentic Frameworks:\n",
       "- [Nvidia GTC 2025 - all the news you might have missed](https://www.techradar.com/pro/live/nvidia-gtc-2025-all-the-news-and-updates-from-jensen-huang-keynote-as-it-happens?utm_source=openai)\n",
       "- [Microsoft Build 2025 LIVE: All the big AI news announced](https://www.tomsguide.com/news/live/microsoft-build-2025?utm_source=openai)\n",
       "- [5 Predictions for AI in 2025](https://time.com/7204665/ai-predictions-2025/?utm_source=openai) "
      ],
      "text/plain": [
       "<IPython.core.display.Markdown object>"
      ]
     },
     "metadata": {},
     "output_type": "display_data"
    }
   ],
   "source": [
    "message = \"Latest AI Agentic framewords 2025\"\n",
    "\n",
    "with trace(\"Agentic Frameworks\"):\n",
    "    result = await Runner.run(search_agent, message)\n",
    "\n",
    "display(Markdown(result.final_output))"
   ]
  },
  {
   "cell_type": "code",
   "execution_count": 31,
   "metadata": {},
   "outputs": [],
   "source": [
    "HOW_MANY_SEARCHES = 1\n",
    "\n",
    "instructions2 = f\"You will be given a term and you are supposed to provide the query to enter on the \\\n",
    "    internet to get the best possible answer. Provide me with {HOW_MANY_SEARCHES} queries.\"\n",
    "\n",
    "class WebSearchItem(BaseModel):\n",
    "    reason: str\n",
    "    \"Your reason for this particular query\"\n",
    "\n",
    "    query: str\n",
    "    \"The query that i should search\"\n",
    "\n",
    "class WebSearchPlan(BaseModel):\n",
    "    searches: list[WebSearchItem]\n",
    "    \"\"\"A List of Web Searches to get the best answer for the query\"\"\"\n",
    "\n",
    "planner_agent = Agent(\n",
    "    name=\"Planner Agent\",\n",
    "    model = os.getenv(\"model\"),\n",
    "    instructions=instructions2,\n",
    "    output_type=WebSearchPlan\n",
    ")"
   ]
  },
  {
   "cell_type": "code",
   "execution_count": 17,
   "metadata": {},
   "outputs": [
    {
     "name": "stdout",
     "output_type": "stream",
     "text": [
      "search=[WebSearchItem(reason='To find detailed insights and analyses of cricketers known for their wicketkeeping skills.', query='best wicketkeepers in cricket history techniques'), WebSearchItem(reason='To find current players recognized for their wicketkeeping abilities and strategies for success.', query='top modern wicketkeepers cricket techniques')]\n"
     ]
    }
   ],
   "source": [
    "message = \"Cricketers with the best Wicketkeeping techniques\"\n",
    "\n",
    "with trace(\"Cricketers\"):\n",
    "    result = await Runner.run(planner_agent, message)\n",
    "    print(result.final_output)"
   ]
  },
  {
   "cell_type": "code",
   "execution_count": 2,
   "metadata": {},
   "outputs": [],
   "source": [
    "@function_tool\n",
    "def send_email(subject: str, html_body: str) -> Dict[str, str]:\n",
    "    \"\"\"Send out an email with the given subject and HTML body\"\"\"\n",
    "    try:\n",
    "        sg = sendgrid.SendGridAPIClient(api_key=os.getenv(\"SENDGRID_API_KEY\"))  # <-- corrected!\n",
    "        from_email = Email(\"22bce338@nirmauni.ac.in\")\n",
    "        to_email = To(\"siddhs2004@gmail.com\")\n",
    "        content = Content(\"text/html\", html_body)\n",
    "        mail = Mail(from_email, to_email, subject, content).get()\n",
    "\n",
    "        response = sg.client.mail.send.post(request_body=mail)\n",
    "\n",
    "        print(\"✅ SendGrid API Response Code:\", response.status_code)\n",
    "        print(\"📩 Response Body:\", response.body)\n",
    "\n",
    "        if response.status_code == 202:\n",
    "            return {\"status\": \"success\"}\n",
    "        else:\n",
    "            return {\n",
    "                \"status\": \"failed\",\n",
    "                \"code\": response.status_code,\n",
    "                \"body\": response.body.decode(\"utf-8\") if hasattr(response.body, \"decode\") else str(response.body)\n",
    "            }\n",
    "\n",
    "    except Exception as e:\n",
    "        print(\"❌ Exception occurred while sending email:\")\n",
    "        print(str(e))\n",
    "        return {\"status\": \"error\", \"message\": str(e)}\n"
   ]
  },
  {
   "cell_type": "code",
   "execution_count": 20,
   "metadata": {},
   "outputs": [],
   "source": [
    "instructions3 = \"\"\"You are able to send a nicely formatted HTML email based on a detailed report.\n",
    "You will be provided with a detailed report. You should use your tool to send one email, providing the \n",
    "report converted into clean, well presented HTML with an appropriate subject line.\"\"\"\n",
    "\n",
    "email_agent = Agent(\n",
    "    name = \"Email Agent\",\n",
    "    instructions=instructions3,\n",
    "    tools=[send_email],\n",
    "    model = os.getenv(\"model\")\n",
    ")"
   ]
  },
  {
   "cell_type": "code",
   "execution_count": 21,
   "metadata": {},
   "outputs": [],
   "source": [
    "instructions4 = \"You are a report writing agent. You will be given a query and a short summary of the \\\n",
    "    of the findings of the query. Your task is to generate a report on it. The report should not contain \\\n",
    "    more than 100 words. You should first generate the flow of the report and then output the final report.\"\n",
    "\n",
    "class ReportData(BaseModel):\n",
    "    short_summary: str\n",
    "    \"A short summary of the findings\"\n",
    "\n",
    "    actual_report: str\n",
    "    \"The Actual report to be written\"\n",
    "\n",
    "    follow_up: str\n",
    "    \"Any follow up questions and recommendations to work on a future topic\"\n",
    "\n",
    "writer_agent = Agent(\n",
    "    name= \"Writer Agent\",\n",
    "    instructions=instructions4,\n",
    "    model = os.getenv(\"model\"),\n",
    "    output_type=ReportData,\n",
    ")"
   ]
  },
  {
   "cell_type": "code",
   "execution_count": 24,
   "metadata": {},
   "outputs": [],
   "source": [
    "async def plan_searches(query: str):\n",
    "    \"\"\"Use the planner agent to find the relevant search wordings\"\"\"\n",
    "    print(\"Planning Searches\")\n",
    "    result = await Runner.run(planner_agent, f\"Query {query}\")\n",
    "    print(f\"Will perform {len(result.final_output.searches)} searches\")\n",
    "    return result.final_output\n",
    "\n",
    "async def search(item: WebSearchItem):\n",
    "    \"\"\"Use search agent to search each query\"\"\"\n",
    "    input = f\"Search {item.query} and the reason {item.reason}\"\n",
    "    result = await Runner.run(search_agent, input)\n",
    "    return result.final_output\n",
    "\n",
    "async def all_searches(search_plan : WebSearchPlan):\n",
    "    \"\"\"Use this to search all the web searches\"\"\"\n",
    "    print(\"Searching....\")\n",
    "    tasks = [asyncio.create_task(search(item)) for item in search_plan.searches]\n",
    "    results = await asyncio.gather(*tasks)\n",
    "    print(\"Finished Searching\")\n",
    "    return results"
   ]
  },
  {
   "cell_type": "code",
   "execution_count": 52,
   "metadata": {},
   "outputs": [
    {
     "ename": "",
     "evalue": "",
     "output_type": "error",
     "traceback": [
      "\u001b[1;31mThe Kernel crashed while executing code in the current cell or a previous cell. \n",
      "\u001b[1;31mPlease review the code in the cell(s) to identify a possible cause of the failure. \n",
      "\u001b[1;31mClick <a href='https://aka.ms/vscodeJupyterKernelCrash'>here</a> for more info. \n",
      "\u001b[1;31mView Jupyter <a href='command:jupyter.viewOutput'>log</a> for further details."
     ]
    }
   ],
   "source": [
    "async def write_report(query: str, search_results: list[str]):\n",
    "    \"\"\"Use the writer agent to write the report\"\"\"\n",
    "    print(\"Writing a report...\")\n",
    "    input = f\"Query is: {query} and the summary is: {search_results}\"\n",
    "    result = await Runner.run(writer_agent, input)\n",
    "    print(\"Report Written\")\n",
    "    return result.final_output\n",
    "\n",
    "async def send_email(report: ReportData):\n",
    "    \"\"\" Use the email agent to send an email with the report \"\"\"\n",
    "    print(\"Writing email...\")\n",
    "    result = await Runner.run(email_agent, report.actual_report)\n",
    "    print(\"Email sent\")\n",
    "    return report\n"
   ]
  },
  {
   "cell_type": "code",
   "execution_count": null,
   "metadata": {},
   "outputs": [
    {
     "name": "stdout",
     "output_type": "stream",
     "text": [
      "Planning Searches\n",
      "Will perform 1 searches\n",
      "Searching....\n",
      "Finished Searching\n",
      "Writing a report...\n",
      "Report Written\n",
      "Writing email...\n",
      "Email sent\n",
      "RunResult:\n",
      "- Last agent: Agent(name=\"Email Agent\", ...)\n",
      "- Final output (str):\n",
      "    It seems there's an error preventing me from sending the email at the moment. However, you can take the formatted HTML content and send it through your own email client. Here's the HTML content you can use:\n",
      "    \n",
      "    ```html\n",
      "    <h1>Comparative Analysis of Indian Cricket Captains</h1>\n",
      "    <p>India boasts two of the most celebrated cricket captains: <strong>MS Dhoni</strong> and <strong>Virat Kohli</strong>, each contributing uniquely to the sport.</p>\n",
      "    \n",
      "    <h2>MS Dhoni: The Calm Strategist</h2>\n",
      "    <ul>\n",
      "      <li><strong>Leadership Style:</strong> Characterized by composure and strategic man-management.</li>\n",
      "      <li><strong>Achievements:</strong> Led India to three ICC trophies: \n",
      "        <ul>\n",
      "          <li>T20 World Cup</li>\n",
      "          <li>ODI World Cup</li>\n",
      "          <li>Champions Trophy</li>\n",
      "        </ul>\n",
      "      </li>\n",
      "    </ul>\n",
      "    \n",
      "    <h2>Virat Kohli: The Aggressive Modernizer</h2>\n",
      "    <ul>\n",
      "      <li><strong>Leadership Style:</strong> Known for his aggressive approach and focus on fitness.</li>\n",
      "      <li><strong>Achievements:</strong> While he has modernized the team, he has yet to secure an ICC title as captain.</li>\n",
      "    </ul>\n",
      "    \n",
      "    <h2>Conclusion</h2>\n",
      "    <p>Both captains have significantly influenced Indian cricket. However, Dhoni's remarkable achievements in major tournaments distinguish him as a formidable leader.</p>\n",
      "    ```\n",
      "    \n",
      "    Feel free to copy and paste this into an email client that supports HTML formatting. Let me know if you need any further assistance!\n",
      "- 5 new item(s)\n",
      "- 3 raw response(s)\n",
      "- 0 input guardrail result(s)\n",
      "- 0 output guardrail result(s)\n",
      "(See `RunResult` for more details)\n",
      "Lessssgooooo!!\n"
     ]
    }
   ],
   "source": [
    "query = \"Why is MS Dhoni better than Virat Kohli\"\n",
    "\n",
    "with trace(\"Cricketing Questions\"):\n",
    "    search_plan = await plan_searches(query)\n",
    "    search_results = await all_searches(search_plan)\n",
    "    final_report = await write_report(query, search_results)\n",
    "    await send_email(final_report)\n",
    "    print(\"Lessssgooooo!!\")\n"
   ]
  },
  {
   "cell_type": "code",
   "execution_count": null,
   "metadata": {},
   "outputs": [],
   "source": []
  }
 ],
 "metadata": {
  "kernelspec": {
   "display_name": ".venv",
   "language": "python",
   "name": "python3"
  },
  "language_info": {
   "codemirror_mode": {
    "name": "ipython",
    "version": 3
   },
   "file_extension": ".py",
   "mimetype": "text/x-python",
   "name": "python",
   "nbconvert_exporter": "python",
   "pygments_lexer": "ipython3",
   "version": "3.12.10"
  }
 },
 "nbformat": 4,
 "nbformat_minor": 2
}
